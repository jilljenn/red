{
 "cells": [
  {
   "cell_type": "markdown",
   "id": "2ddeb2ae",
   "metadata": {},
   "source": [
    "# Code Gaussian Process de ChatGPT"
   ]
  },
  {
   "cell_type": "code",
   "execution_count": 1,
   "id": "0bd08069",
   "metadata": {},
   "outputs": [
    {
     "name": "stdout",
     "output_type": "stream",
     "text": [
      "Predicted Ratings:\n",
      " [[4.99702824 4.00131575 3.52106531 0.99939285]\n",
      " [3.99587942 3.5629401  4.99161605 2.00457249]\n",
      " [1.00116044 1.00804112 3.2665775  3.9979976 ]\n",
      " [3.28382011 4.98932489 4.00433794 4.99484845]]\n",
      "Uncertainty (Standard Deviation):\n",
      " [[0.09988612 0.09991087 1.5757415  0.09991376]\n",
      " [0.09986636 1.28915002 0.09988931 0.09981328]\n",
      " [0.09987916 0.09987341 1.23495931 0.09985056]\n",
      " [1.87701317 0.09987899 0.09986628 0.09987688]]\n"
     ]
    }
   ],
   "source": [
    "import numpy as np\n",
    "from sklearn.gaussian_process import GaussianProcessRegressor\n",
    "from sklearn.gaussian_process.kernels import RBF, ConstantKernel as C\n",
    "\n",
    "# Example user-item interaction matrix (ratings)\n",
    "# Rows: users, Columns: items\n",
    "ratings = np.array([\n",
    "    [5, 4, np.nan, 1],\n",
    "    [4, np.nan, 5, 2],\n",
    "    [1, 1, np.nan, 4],\n",
    "    [np.nan, 5, 4, 5]\n",
    "])\n",
    "\n",
    "# Extract observed (non-NaN) user-item pairs and corresponding ratings\n",
    "user_item_pairs = np.argwhere(~np.isnan(ratings))\n",
    "observed_ratings = ratings[~np.isnan(ratings)]\n",
    "\n",
    "# Define kernel for Gaussian Process\n",
    "# Using RBF (Radial Basis Function) kernel with a constant kernel as prior\n",
    "kernel = C(1.0, (1e-3, 1e3)) * RBF(1.0, (1e-3, 1e3))\n",
    "\n",
    "# Initialize Gaussian Process Regressor\n",
    "gp = GaussianProcessRegressor(kernel=kernel, n_restarts_optimizer=10, alpha=1e-2)\n",
    "\n",
    "# Fit the model to the observed data\n",
    "gp.fit(user_item_pairs, observed_ratings)\n",
    "\n",
    "# Predict ratings for all user-item pairs (with uncertainty)\n",
    "all_user_item_pairs = np.array([[i, j] for i in range(ratings.shape[0]) for j in range(ratings.shape[1])])\n",
    "predicted_ratings, std_dev = gp.predict(all_user_item_pairs, return_std=True)\n",
    "\n",
    "# Reshape predictions to the original ratings matrix shape\n",
    "predicted_ratings_matrix = predicted_ratings.reshape(ratings.shape)\n",
    "std_dev_matrix = std_dev.reshape(ratings.shape)\n",
    "\n",
    "# Print the predicted ratings with uncertainty\n",
    "print(\"Predicted Ratings:\\n\", predicted_ratings_matrix)\n",
    "print(\"Uncertainty (Standard Deviation):\\n\", std_dev_matrix)\n"
   ]
  },
  {
   "cell_type": "code",
   "execution_count": 2,
   "id": "6f19785f",
   "metadata": {},
   "outputs": [
    {
     "data": {
      "text/plain": [
       "1**2 * RBF(length_scale=1)"
      ]
     },
     "execution_count": 2,
     "metadata": {},
     "output_type": "execute_result"
    }
   ],
   "source": [
    "kernel"
   ]
  },
  {
   "cell_type": "code",
   "execution_count": 3,
   "id": "e16928e9",
   "metadata": {},
   "outputs": [
    {
     "data": {
      "text/plain": [
       "(12, 12)"
      ]
     },
     "execution_count": 3,
     "metadata": {},
     "output_type": "execute_result"
    }
   ],
   "source": [
    "kernel(user_item_pairs).shape"
   ]
  },
  {
   "cell_type": "code",
   "execution_count": 4,
   "id": "370380ab",
   "metadata": {},
   "outputs": [
    {
     "data": {
      "text/plain": [
       "array([[1.   , 0.607, 0.011, 0.607, 0.082, 0.007, 0.135, 0.082, 0.002,\n",
       "        0.007, 0.002, 0.   ],\n",
       "       [0.607, 1.   , 0.135, 0.368, 0.368, 0.082, 0.082, 0.135, 0.018,\n",
       "        0.011, 0.007, 0.002],\n",
       "       [0.011, 0.135, 1.   , 0.007, 0.368, 0.607, 0.002, 0.018, 0.135,\n",
       "        0.002, 0.007, 0.011],\n",
       "       [0.607, 0.368, 0.007, 1.   , 0.135, 0.011, 0.607, 0.368, 0.007,\n",
       "        0.082, 0.018, 0.002],\n",
       "       [0.082, 0.368, 0.368, 0.135, 1.   , 0.607, 0.082, 0.368, 0.368,\n",
       "        0.082, 0.135, 0.082],\n",
       "       [0.007, 0.082, 0.607, 0.011, 0.607, 1.   , 0.007, 0.082, 0.607,\n",
       "        0.018, 0.082, 0.135],\n",
       "       [0.135, 0.082, 0.002, 0.607, 0.082, 0.007, 1.   , 0.607, 0.011,\n",
       "        0.368, 0.082, 0.007],\n",
       "       [0.082, 0.135, 0.018, 0.368, 0.368, 0.082, 0.607, 1.   , 0.135,\n",
       "        0.607, 0.368, 0.082],\n",
       "       [0.002, 0.018, 0.135, 0.007, 0.368, 0.607, 0.011, 0.135, 1.   ,\n",
       "        0.082, 0.368, 0.607],\n",
       "       [0.007, 0.011, 0.002, 0.082, 0.082, 0.018, 0.368, 0.607, 0.082,\n",
       "        1.   , 0.607, 0.135],\n",
       "       [0.002, 0.007, 0.007, 0.018, 0.135, 0.082, 0.082, 0.368, 0.368,\n",
       "        0.607, 1.   , 0.607],\n",
       "       [0.   , 0.002, 0.011, 0.002, 0.082, 0.135, 0.007, 0.082, 0.607,\n",
       "        0.135, 0.607, 1.   ]])"
      ]
     },
     "execution_count": 4,
     "metadata": {},
     "output_type": "execute_result"
    }
   ],
   "source": [
    "kernel(user_item_pairs).round(3)"
   ]
  },
  {
   "cell_type": "code",
   "execution_count": 5,
   "id": "411a999a",
   "metadata": {},
   "outputs": [
    {
     "data": {
      "text/plain": [
       "<matplotlib.image.AxesImage at 0x79e18472b910>"
      ]
     },
     "execution_count": 5,
     "metadata": {},
     "output_type": "execute_result"
    },
    {
     "data": {
      "image/png": "[encoded data removed]",
      "text/plain": [
       "<Figure size 640x480 with 1 Axes>"
      ]
     },
     "metadata": {},
     "output_type": "display_data"
    }
   ],
   "source": [
    "import matplotlib.pyplot as plt\n",
    "plt.imshow(kernel(user_item_pairs))"
   ]
  },
  {
   "cell_type": "code",
   "execution_count": 6,
   "id": "8d3e3741",
   "metadata": {},
   "outputs": [
    {
     "data": {
      "text/plain": [
       "array([[0, 0],\n",
       "       [0, 1],\n",
       "       [0, 3],\n",
       "       [1, 0],\n",
       "       [1, 2],\n",
       "       [1, 3],\n",
       "       [2, 0],\n",
       "       [2, 1],\n",
       "       [2, 3],\n",
       "       [3, 1],\n",
       "       [3, 2],\n",
       "       [3, 3]])"
      ]
     },
     "execution_count": 6,
     "metadata": {},
     "output_type": "execute_result"
    }
   ],
   "source": [
    "user_item_pairs  # Donc la similarité est une exp(-L2) sur les (i, j) considérés comme continus"
   ]
  },
  {
   "cell_type": "markdown",
   "id": "b74cbfeb",
   "metadata": {},
   "source": [
    "# Test sur Movielens avec baselines Mangaki\n",
    "\n",
    "## Random folds non striated"
   ]
  },
  {
   "cell_type": "code",
   "execution_count": 7,
   "id": "c6cd099a",
   "metadata": {},
   "outputs": [
    {
     "data": {
      "text/html": [
       "<div>\n",
       "<style scoped>\n",
       "    .dataframe tbody tr th:only-of-type {\n",
       "        vertical-align: middle;\n",
       "    }\n",
       "\n",
       "    .dataframe tbody tr th {\n",
       "        vertical-align: top;\n",
       "    }\n",
       "\n",
       "    .dataframe thead th {\n",
       "        text-align: right;\n",
       "    }\n",
       "</style>\n",
       "<table border=\"1\" class=\"dataframe\">\n",
       "  <thead>\n",
       "    <tr style=\"text-align: right;\">\n",
       "      <th></th>\n",
       "      <th>userId</th>\n",
       "      <th>movieId</th>\n",
       "      <th>rating</th>\n",
       "      <th>timestamp</th>\n",
       "    </tr>\n",
       "  </thead>\n",
       "  <tbody>\n",
       "    <tr>\n",
       "      <th>0</th>\n",
       "      <td>1</td>\n",
       "      <td>1</td>\n",
       "      <td>4.0</td>\n",
       "      <td>964982703</td>\n",
       "    </tr>\n",
       "    <tr>\n",
       "      <th>1</th>\n",
       "      <td>1</td>\n",
       "      <td>3</td>\n",
       "      <td>4.0</td>\n",
       "      <td>964981247</td>\n",
       "    </tr>\n",
       "    <tr>\n",
       "      <th>2</th>\n",
       "      <td>1</td>\n",
       "      <td>6</td>\n",
       "      <td>4.0</td>\n",
       "      <td>964982224</td>\n",
       "    </tr>\n",
       "    <tr>\n",
       "      <th>3</th>\n",
       "      <td>1</td>\n",
       "      <td>47</td>\n",
       "      <td>5.0</td>\n",
       "      <td>964983815</td>\n",
       "    </tr>\n",
       "    <tr>\n",
       "      <th>4</th>\n",
       "      <td>1</td>\n",
       "      <td>50</td>\n",
       "      <td>5.0</td>\n",
       "      <td>964982931</td>\n",
       "    </tr>\n",
       "  </tbody>\n",
       "</table>\n",
       "</div>"
      ],
      "text/plain": [
       "   userId  movieId  rating  timestamp\n",
       "0       1        1     4.0  964982703\n",
       "1       1        3     4.0  964981247\n",
       "2       1        6     4.0  964982224\n",
       "3       1       47     5.0  964983815\n",
       "4       1       50     5.0  964982931"
      ]
     },
     "execution_count": 7,
     "metadata": {},
     "output_type": "execute_result"
    }
   ],
   "source": [
    "import pandas as pd\n",
    "\n",
    "# df = pd.read_csv('/home/jj/Documents/Mangaki/ratings.csv')\n",
    "df = pd.read_csv('/home/jj/code/vae/ml-latest-small/ratings.csv')\n",
    "df.head()"
   ]
  },
  {
   "cell_type": "code",
   "execution_count": 8,
   "id": "f567d8cf",
   "metadata": {},
   "outputs": [],
   "source": [
    "df['user'] = np.unique(df['userId'], return_inverse=True)[1]\n",
    "df['item'] = np.unique(df['movieId'], return_inverse=True)[1]"
   ]
  },
  {
   "cell_type": "code",
   "execution_count": 9,
   "id": "bea95e81",
   "metadata": {},
   "outputs": [],
   "source": [
    "from sklearn.model_selection import train_test_split\n",
    "\n",
    "df_train, df_test = train_test_split(df, shuffle=True, random_state=42)"
   ]
  },
  {
   "cell_type": "code",
   "execution_count": 10,
   "id": "91641091",
   "metadata": {},
   "outputs": [],
   "source": [
    "from zero.knn import MangakiKNN\n",
    "\n",
    "knn = MangakiKNN()\n",
    "knn.nb_users = df['user'].nunique()\n",
    "knn.nb_works = df['item'].nunique()\n",
    "knn.fit(df_train[['user', 'item']].values, df_train['rating'])"
   ]
  },
  {
   "cell_type": "code",
   "execution_count": 11,
   "id": "1ce5ef3d",
   "metadata": {},
   "outputs": [],
   "source": [
    "y_pred = knn.predict(df_test[['user', 'item']].values)"
   ]
  },
  {
   "cell_type": "code",
   "execution_count": 12,
   "id": "47bcbc35",
   "metadata": {},
   "outputs": [],
   "source": [
    "y_test = df_test['rating'].values"
   ]
  },
  {
   "cell_type": "code",
   "execution_count": 13,
   "id": "a1cfc166",
   "metadata": {},
   "outputs": [
    {
     "data": {
      "text/plain": [
       "2.240636102627217"
      ]
     },
     "execution_count": 13,
     "metadata": {},
     "output_type": "execute_result"
    }
   ],
   "source": [
    "((y_pred - y_test) ** 2).mean() ** 0.5"
   ]
  },
  {
   "cell_type": "markdown",
   "id": "af776d0f",
   "metadata": {},
   "source": [
    "KNN obtient une RMSE de 2,24 donc autant dire qu'elle est terrible"
   ]
  },
  {
   "cell_type": "code",
   "execution_count": 14,
   "id": "d89ef8a2",
   "metadata": {},
   "outputs": [
    {
     "name": "stdout",
     "output_type": "stream",
     "text": [
      "Computing M: (610 × 9724)\n",
      "Shapes (610, 20) (20,) (20, 9724)\n"
     ]
    }
   ],
   "source": [
    "from zero.svd import MangakiSVD\n",
    "\n",
    "svd = MangakiSVD()\n",
    "svd.nb_users = df['user'].nunique()\n",
    "svd.nb_works = df['item'].nunique()\n",
    "svd.fit(df_train[['user', 'item']].values, df_train['rating'])"
   ]
  },
  {
   "cell_type": "code",
   "execution_count": 15,
   "id": "ba460cb8",
   "metadata": {},
   "outputs": [],
   "source": [
    "y_pred = svd.predict(df_test[['user', 'item']].values)"
   ]
  },
  {
   "cell_type": "code",
   "execution_count": 16,
   "id": "08fc6c4b",
   "metadata": {},
   "outputs": [
    {
     "data": {
      "text/plain": [
       "0.9172088437758473"
      ]
     },
     "execution_count": 16,
     "metadata": {},
     "output_type": "execute_result"
    }
   ],
   "source": [
    "((y_pred - y_test) ** 2).mean() ** 0.5"
   ]
  },
  {
   "cell_type": "markdown",
   "id": "e6d917a6",
   "metadata": {},
   "source": [
    "SVD est une meilleure baseline, RMSE de 0.917"
   ]
  },
  {
   "cell_type": "markdown",
   "id": "f39d43cb",
   "metadata": {},
   "source": [
    "## Striated folds: train and test on 50% of a single user\n",
    "\n",
    "Pour être précis : on suppose que toutes les données sauf user 94 sont le training set.  \n",
    "Puis on entraîne le GP sur 50 % des ratings de user 94 (validation), et on teste sur 50 % restants de user 94 (test)."
   ]
  },
  {
   "cell_type": "code",
   "execution_count": 17,
   "id": "d55388c9",
   "metadata": {},
   "outputs": [],
   "source": [
    "from random import choice\n",
    "\n",
    "# choice(df['user'].unique())  # Was 94"
   ]
  },
  {
   "cell_type": "code",
   "execution_count": 18,
   "id": "685d10d2",
   "metadata": {},
   "outputs": [
    {
     "data": {
      "text/plain": [
       "(168, 6)"
      ]
     },
     "execution_count": 18,
     "metadata": {},
     "output_type": "execute_result"
    }
   ],
   "source": [
    "df.query(\"user == 94\").shape  # User 94 a noté 168 œuvres"
   ]
  },
  {
   "cell_type": "code",
   "execution_count": 19,
   "id": "96619aa7",
   "metadata": {},
   "outputs": [],
   "source": [
    "training = df.query(\"user != 94\")\n",
    "valtest = df.query(\"user == 94\")"
   ]
  },
  {
   "cell_type": "code",
   "execution_count": 20,
   "id": "3c3b3db9",
   "metadata": {},
   "outputs": [
    {
     "data": {
      "text/plain": [
       "(168, 6)"
      ]
     },
     "execution_count": 20,
     "metadata": {},
     "output_type": "execute_result"
    }
   ],
   "source": [
    "valtest.shape"
   ]
  },
  {
   "cell_type": "code",
   "execution_count": 21,
   "id": "d3ecda34",
   "metadata": {},
   "outputs": [],
   "source": [
    "val, test = train_test_split(valtest, shuffle=True, test_size=0.5, random_state=42)"
   ]
  },
  {
   "cell_type": "code",
   "execution_count": 22,
   "id": "478643ba",
   "metadata": {},
   "outputs": [
    {
     "data": {
      "text/plain": [
       "((84, 6), (84, 6))"
      ]
     },
     "execution_count": 22,
     "metadata": {},
     "output_type": "execute_result"
    }
   ],
   "source": [
    "val.shape, test.shape"
   ]
  },
  {
   "cell_type": "code",
   "execution_count": 23,
   "id": "f9ef8fdc",
   "metadata": {},
   "outputs": [
    {
     "data": {
      "text/plain": [
       "(100836, 6)"
      ]
     },
     "execution_count": 23,
     "metadata": {},
     "output_type": "execute_result"
    }
   ],
   "source": [
    "trainval = pd.concat((training, valtest))\n",
    "trainval.shape"
   ]
  },
  {
   "cell_type": "code",
   "execution_count": 24,
   "id": "9ce1d566",
   "metadata": {},
   "outputs": [
    {
     "data": {
      "text/plain": [
       "(100668, 6)"
      ]
     },
     "execution_count": 24,
     "metadata": {},
     "output_type": "execute_result"
    }
   ],
   "source": [
    "training.shape"
   ]
  },
  {
   "cell_type": "code",
   "execution_count": 25,
   "id": "20e1ce29",
   "metadata": {},
   "outputs": [],
   "source": [
    "knn = MangakiKNN()\n",
    "knn.nb_users = df['user'].nunique()\n",
    "knn.nb_works = df['item'].nunique()\n",
    "knn.fit(trainval[['user', 'item']].values, trainval['rating'])"
   ]
  },
  {
   "cell_type": "code",
   "execution_count": 26,
   "id": "7da2d87e",
   "metadata": {},
   "outputs": [],
   "source": [
    "y_pred = knn.predict(test[['user', 'item']].values)\n",
    "y_test = test['rating'].values"
   ]
  },
  {
   "cell_type": "code",
   "execution_count": 27,
   "id": "3a6dbd0e",
   "metadata": {},
   "outputs": [
    {
     "data": {
      "text/plain": [
       "1.6755422112521572"
      ]
     },
     "execution_count": 27,
     "metadata": {},
     "output_type": "execute_result"
    }
   ],
   "source": [
    "((y_pred - y_test) ** 2).mean() ** 0.5"
   ]
  },
  {
   "cell_type": "markdown",
   "id": "5fbf3fd7",
   "metadata": {},
   "source": [
    "Baseline terrible KNN : RMSE 1.675 sur 50 % de user 94"
   ]
  },
  {
   "cell_type": "code",
   "execution_count": 28,
   "id": "25df619f",
   "metadata": {},
   "outputs": [
    {
     "name": "stdout",
     "output_type": "stream",
     "text": [
      "Computing M: (610 × 9724)\n",
      "Shapes (610, 20) (20,) (20, 9724)\n"
     ]
    }
   ],
   "source": [
    "svd = MangakiSVD()\n",
    "svd.nb_users = df['user'].nunique()\n",
    "svd.nb_works = df['item'].nunique()\n",
    "svd.fit(trainval[['user', 'item']].values, trainval['rating'])"
   ]
  },
  {
   "cell_type": "markdown",
   "id": "bb04900b",
   "metadata": {},
   "source": [
    "y_pred = svd.predict(test[['user', 'item']].values)\n",
    "((y_pred - y_test) ** 2).mean() ** 0.5"
   ]
  },
  {
   "cell_type": "markdown",
   "id": "e0314274",
   "metadata": {},
   "source": [
    "Baseline SVD : RMSE 0.841 sur 50 % de user 94"
   ]
  },
  {
   "cell_type": "code",
   "execution_count": 29,
   "id": "7bf4dd80",
   "metadata": {},
   "outputs": [
    {
     "data": {
      "text/plain": [
       "(9724, 20)"
      ]
     },
     "execution_count": 29,
     "metadata": {},
     "output_type": "execute_result"
    }
   ],
   "source": [
    "svd.VT.T.shape"
   ]
  },
  {
   "cell_type": "code",
   "execution_count": 30,
   "id": "8bfc10f9",
   "metadata": {},
   "outputs": [
    {
     "data": {
      "text/plain": [
       "<610x9724 sparse matrix of type '<class 'numpy.float64'>'\n",
       "\twith 100668 stored elements in Compressed Sparse Row format>"
      ]
     },
     "execution_count": 30,
     "metadata": {},
     "output_type": "execute_result"
    }
   ],
   "source": [
    "from scipy.sparse import csr_matrix\n",
    "\n",
    "M = csr_matrix((training['rating'], (training['user'], training['item'])))\n",
    "M"
   ]
  },
  {
   "cell_type": "code",
   "execution_count": 31,
   "id": "1b1aa0e0",
   "metadata": {},
   "outputs": [],
   "source": [
    "from sklearn.gaussian_process.kernels import DotProduct, RBF, ConstantKernel as C\n",
    "\n",
    "kernel = DotProduct(1.0, (1e-3, 1e3))\n",
    "# kernel = C(1.0, (1e-3, 1e3)) * RBF(1.0, (1e-3, 1e3))\n",
    "# kernel = RBF(1.0, (1e-3, 1e3))\n",
    "gp = GaussianProcessRegressor(kernel=kernel, n_restarts_optimizer=10, alpha=1e-2)"
   ]
  },
  {
   "cell_type": "code",
   "execution_count": 32,
   "id": "d08554d0",
   "metadata": {},
   "outputs": [
    {
     "data": {
      "text/plain": [
       "<84x610 sparse matrix of type '<class 'numpy.float64'>'\n",
       "\twith 4630 stored elements in Compressed Sparse Column format>"
      ]
     },
     "execution_count": 32,
     "metadata": {},
     "output_type": "execute_result"
    }
   ],
   "source": [
    "M.T[val['item']]"
   ]
  },
  {
   "cell_type": "code",
   "execution_count": 33,
   "id": "b5703b38",
   "metadata": {},
   "outputs": [
    {
     "data": {
      "text/html": [
       "<style>#sk-container-id-1 {\n",
       "  /* Definition of color scheme common for light and dark mode */\n",
       "  --sklearn-color-text: black;\n",
       "  --sklearn-color-line: gray;\n",
       "  /* Definition of color scheme for unfitted estimators */\n",
       "  --sklearn-color-unfitted-level-0: #fff5e6;\n",
       "  --sklearn-color-unfitted-level-1: #f6e4d2;\n",
       "  --sklearn-color-unfitted-level-2: #ffe0b3;\n",
       "  --sklearn-color-unfitted-level-3: chocolate;\n",
       "  /* Definition of color scheme for fitted estimators */\n",
       "  --sklearn-color-fitted-level-0: #f0f8ff;\n",
       "  --sklearn-color-fitted-level-1: #d4ebff;\n",
       "  --sklearn-color-fitted-level-2: #b3dbfd;\n",
       "  --sklearn-color-fitted-level-3: cornflowerblue;\n",
       "\n",
       "  /* Specific color for light theme */\n",
       "  --sklearn-color-text-on-default-background: var(--sg-text-color, var(--theme-code-foreground, var(--jp-content-font-color1, black)));\n",
       "  --sklearn-color-background: var(--sg-background-color, var(--theme-background, var(--jp-layout-color0, white)));\n",
       "  --sklearn-color-border-box: var(--sg-text-color, var(--theme-code-foreground, var(--jp-content-font-color1, black)));\n",
       "  --sklearn-color-icon: #696969;\n",
       "\n",
       "  @media (prefers-color-scheme: dark) {\n",
       "    /* Redefinition of color scheme for dark theme */\n",
       "    --sklearn-color-text-on-default-background: var(--sg-text-color, var(--theme-code-foreground, var(--jp-content-font-color1, white)));\n",
       "    --sklearn-color-background: var(--sg-background-color, var(--theme-background, var(--jp-layout-color0, #111)));\n",
       "    --sklearn-color-border-box: var(--sg-text-color, var(--theme-code-foreground, var(--jp-content-font-color1, white)));\n",
       "    --sklearn-color-icon: #878787;\n",
       "  }\n",
       "}\n",
       "\n",
       "#sk-container-id-1 {\n",
       "  color: var(--sklearn-color-text);\n",
       "}\n",
       "\n",
       "#sk-container-id-1 pre {\n",
       "  padding: 0;\n",
       "}\n",
       "\n",
       "#sk-container-id-1 input.sk-hidden--visually {\n",
       "  border: 0;\n",
       "  clip: rect(1px 1px 1px 1px);\n",
       "  clip: rect(1px, 1px, 1px, 1px);\n",
       "  height: 1px;\n",
       "  margin: -1px;\n",
       "  overflow: hidden;\n",
       "  padding: 0;\n",
       "  position: absolute;\n",
       "  width: 1px;\n",
       "}\n",
       "\n",
       "#sk-container-id-1 div.sk-dashed-wrapped {\n",
       "  border: 1px dashed var(--sklearn-color-line);\n",
       "  margin: 0 0.4em 0.5em 0.4em;\n",
       "  box-sizing: border-box;\n",
       "  padding-bottom: 0.4em;\n",
       "  background-color: var(--sklearn-color-background);\n",
       "}\n",
       "\n",
       "#sk-container-id-1 div.sk-container {\n",
       "  /* jupyter's `normalize.less` sets `[hidden] { display: none; }`\n",
       "     but bootstrap.min.css set `[hidden] { display: none !important; }`\n",
       "     so we also need the `!important` here to be able to override the\n",
       "     default hidden behavior on the sphinx rendered scikit-learn.org.\n",
       "     See: https://github.com/scikit-learn/scikit-learn/issues/21755 */\n",
       "  display: inline-block !important;\n",
       "  position: relative;\n",
       "}\n",
       "\n",
       "#sk-container-id-1 div.sk-text-repr-fallback {\n",
       "  display: none;\n",
       "}\n",
       "\n",
       "div.sk-parallel-item,\n",
       "div.sk-serial,\n",
       "div.sk-item {\n",
       "  /* draw centered vertical line to link estimators */\n",
       "  background-image: linear-gradient(var(--sklearn-color-text-on-default-background), var(--sklearn-color-text-on-default-background));\n",
       "  background-size: 2px 100%;\n",
       "  background-repeat: no-repeat;\n",
       "  background-position: center center;\n",
       "}\n",
       "\n",
       "/* Parallel-specific style estimator block */\n",
       "\n",
       "#sk-container-id-1 div.sk-parallel-item::after {\n",
       "  content: \"\";\n",
       "  width: 100%;\n",
       "  border-bottom: 2px solid var(--sklearn-color-text-on-default-background);\n",
       "  flex-grow: 1;\n",
       "}\n",
       "\n",
       "#sk-container-id-1 div.sk-parallel {\n",
       "  display: flex;\n",
       "  align-items: stretch;\n",
       "  justify-content: center;\n",
       "  background-color: var(--sklearn-color-background);\n",
       "  position: relative;\n",
       "}\n",
       "\n",
       "#sk-container-id-1 div.sk-parallel-item {\n",
       "  display: flex;\n",
       "  flex-direction: column;\n",
       "}\n",
       "\n",
       "#sk-container-id-1 div.sk-parallel-item:first-child::after {\n",
       "  align-self: flex-end;\n",
       "  width: 50%;\n",
       "}\n",
       "\n",
       "#sk-container-id-1 div.sk-parallel-item:last-child::after {\n",
       "  align-self: flex-start;\n",
       "  width: 50%;\n",
       "}\n",
       "\n",
       "#sk-container-id-1 div.sk-parallel-item:only-child::after {\n",
       "  width: 0;\n",
       "}\n",
       "\n",
       "/* Serial-specific style estimator block */\n",
       "\n",
       "#sk-container-id-1 div.sk-serial {\n",
       "  display: flex;\n",
       "  flex-direction: column;\n",
       "  align-items: center;\n",
       "  background-color: var(--sklearn-color-background);\n",
       "  padding-right: 1em;\n",
       "  padding-left: 1em;\n",
       "}\n",
       "\n",
       "\n",
       "/* Toggleable style: style used for estimator/Pipeline/ColumnTransformer box that is\n",
       "clickable and can be expanded/collapsed.\n",
       "- Pipeline and ColumnTransformer use this feature and define the default style\n",
       "- Estimators will overwrite some part of the style using the `sk-estimator` class\n",
       "*/\n",
       "\n",
       "/* Pipeline and ColumnTransformer style (default) */\n",
       "\n",
       "#sk-container-id-1 div.sk-toggleable {\n",
       "  /* Default theme specific background. It is overwritten whether we have a\n",
       "  specific estimator or a Pipeline/ColumnTransformer */\n",
       "  background-color: var(--sklearn-color-background);\n",
       "}\n",
       "\n",
       "/* Toggleable label */\n",
       "#sk-container-id-1 label.sk-toggleable__label {\n",
       "  cursor: pointer;\n",
       "  display: block;\n",
       "  width: 100%;\n",
       "  margin-bottom: 0;\n",
       "  padding: 0.5em;\n",
       "  box-sizing: border-box;\n",
       "  text-align: center;\n",
       "}\n",
       "\n",
       "#sk-container-id-1 label.sk-toggleable__label-arrow:before {\n",
       "  /* Arrow on the left of the label */\n",
       "  content: \"▸\";\n",
       "  float: left;\n",
       "  margin-right: 0.25em;\n",
       "  color: var(--sklearn-color-icon);\n",
       "}\n",
       "\n",
       "#sk-container-id-1 label.sk-toggleable__label-arrow:hover:before {\n",
       "  color: var(--sklearn-color-text);\n",
       "}\n",
       "\n",
       "/* Toggleable content - dropdown */\n",
       "\n",
       "#sk-container-id-1 div.sk-toggleable__content {\n",
       "  max-height: 0;\n",
       "  max-width: 0;\n",
       "  overflow: hidden;\n",
       "  text-align: left;\n",
       "  /* unfitted */\n",
       "  background-color: var(--sklearn-color-unfitted-level-0);\n",
       "}\n",
       "\n",
       "#sk-container-id-1 div.sk-toggleable__content.fitted {\n",
       "  /* fitted */\n",
       "  background-color: var(--sklearn-color-fitted-level-0);\n",
       "}\n",
       "\n",
       "#sk-container-id-1 div.sk-toggleable__content pre {\n",
       "  margin: 0.2em;\n",
       "  border-radius: 0.25em;\n",
       "  color: var(--sklearn-color-text);\n",
       "  /* unfitted */\n",
       "  background-color: var(--sklearn-color-unfitted-level-0);\n",
       "}\n",
       "\n",
       "#sk-container-id-1 div.sk-toggleable__content.fitted pre {\n",
       "  /* unfitted */\n",
       "  background-color: var(--sklearn-color-fitted-level-0);\n",
       "}\n",
       "\n",
       "#sk-container-id-1 input.sk-toggleable__control:checked~div.sk-toggleable__content {\n",
       "  /* Expand drop-down */\n",
       "  max-height: 200px;\n",
       "  max-width: 100%;\n",
       "  overflow: auto;\n",
       "}\n",
       "\n",
       "#sk-container-id-1 input.sk-toggleable__control:checked~label.sk-toggleable__label-arrow:before {\n",
       "  content: \"▾\";\n",
       "}\n",
       "\n",
       "/* Pipeline/ColumnTransformer-specific style */\n",
       "\n",
       "#sk-container-id-1 div.sk-label input.sk-toggleable__control:checked~label.sk-toggleable__label {\n",
       "  color: var(--sklearn-color-text);\n",
       "  background-color: var(--sklearn-color-unfitted-level-2);\n",
       "}\n",
       "\n",
       "#sk-container-id-1 div.sk-label.fitted input.sk-toggleable__control:checked~label.sk-toggleable__label {\n",
       "  background-color: var(--sklearn-color-fitted-level-2);\n",
       "}\n",
       "\n",
       "/* Estimator-specific style */\n",
       "\n",
       "/* Colorize estimator box */\n",
       "#sk-container-id-1 div.sk-estimator input.sk-toggleable__control:checked~label.sk-toggleable__label {\n",
       "  /* unfitted */\n",
       "  background-color: var(--sklearn-color-unfitted-level-2);\n",
       "}\n",
       "\n",
       "#sk-container-id-1 div.sk-estimator.fitted input.sk-toggleable__control:checked~label.sk-toggleable__label {\n",
       "  /* fitted */\n",
       "  background-color: var(--sklearn-color-fitted-level-2);\n",
       "}\n",
       "\n",
       "#sk-container-id-1 div.sk-label label.sk-toggleable__label,\n",
       "#sk-container-id-1 div.sk-label label {\n",
       "  /* The background is the default theme color */\n",
       "  color: var(--sklearn-color-text-on-default-background);\n",
       "}\n",
       "\n",
       "/* On hover, darken the color of the background */\n",
       "#sk-container-id-1 div.sk-label:hover label.sk-toggleable__label {\n",
       "  color: var(--sklearn-color-text);\n",
       "  background-color: var(--sklearn-color-unfitted-level-2);\n",
       "}\n",
       "\n",
       "/* Label box, darken color on hover, fitted */\n",
       "#sk-container-id-1 div.sk-label.fitted:hover label.sk-toggleable__label.fitted {\n",
       "  color: var(--sklearn-color-text);\n",
       "  background-color: var(--sklearn-color-fitted-level-2);\n",
       "}\n",
       "\n",
       "/* Estimator label */\n",
       "\n",
       "#sk-container-id-1 div.sk-label label {\n",
       "  font-family: monospace;\n",
       "  font-weight: bold;\n",
       "  display: inline-block;\n",
       "  line-height: 1.2em;\n",
       "}\n",
       "\n",
       "#sk-container-id-1 div.sk-label-container {\n",
       "  text-align: center;\n",
       "}\n",
       "\n",
       "/* Estimator-specific */\n",
       "#sk-container-id-1 div.sk-estimator {\n",
       "  font-family: monospace;\n",
       "  border: 1px dotted var(--sklearn-color-border-box);\n",
       "  border-radius: 0.25em;\n",
       "  box-sizing: border-box;\n",
       "  margin-bottom: 0.5em;\n",
       "  /* unfitted */\n",
       "  background-color: var(--sklearn-color-unfitted-level-0);\n",
       "}\n",
       "\n",
       "#sk-container-id-1 div.sk-estimator.fitted {\n",
       "  /* fitted */\n",
       "  background-color: var(--sklearn-color-fitted-level-0);\n",
       "}\n",
       "\n",
       "/* on hover */\n",
       "#sk-container-id-1 div.sk-estimator:hover {\n",
       "  /* unfitted */\n",
       "  background-color: var(--sklearn-color-unfitted-level-2);\n",
       "}\n",
       "\n",
       "#sk-container-id-1 div.sk-estimator.fitted:hover {\n",
       "  /* fitted */\n",
       "  background-color: var(--sklearn-color-fitted-level-2);\n",
       "}\n",
       "\n",
       "/* Specification for estimator info (e.g. \"i\" and \"?\") */\n",
       "\n",
       "/* Common style for \"i\" and \"?\" */\n",
       "\n",
       ".sk-estimator-doc-link,\n",
       "a:link.sk-estimator-doc-link,\n",
       "a:visited.sk-estimator-doc-link {\n",
       "  float: right;\n",
       "  font-size: smaller;\n",
       "  line-height: 1em;\n",
       "  font-family: monospace;\n",
       "  background-color: var(--sklearn-color-background);\n",
       "  border-radius: 1em;\n",
       "  height: 1em;\n",
       "  width: 1em;\n",
       "  text-decoration: none !important;\n",
       "  margin-left: 1ex;\n",
       "  /* unfitted */\n",
       "  border: var(--sklearn-color-unfitted-level-1) 1pt solid;\n",
       "  color: var(--sklearn-color-unfitted-level-1);\n",
       "}\n",
       "\n",
       ".sk-estimator-doc-link.fitted,\n",
       "a:link.sk-estimator-doc-link.fitted,\n",
       "a:visited.sk-estimator-doc-link.fitted {\n",
       "  /* fitted */\n",
       "  border: var(--sklearn-color-fitted-level-1) 1pt solid;\n",
       "  color: var(--sklearn-color-fitted-level-1);\n",
       "}\n",
       "\n",
       "/* On hover */\n",
       "div.sk-estimator:hover .sk-estimator-doc-link:hover,\n",
       ".sk-estimator-doc-link:hover,\n",
       "div.sk-label-container:hover .sk-estimator-doc-link:hover,\n",
       ".sk-estimator-doc-link:hover {\n",
       "  /* unfitted */\n",
       "  background-color: var(--sklearn-color-unfitted-level-3);\n",
       "  color: var(--sklearn-color-background);\n",
       "  text-decoration: none;\n",
       "}\n",
       "\n",
       "div.sk-estimator.fitted:hover .sk-estimator-doc-link.fitted:hover,\n",
       ".sk-estimator-doc-link.fitted:hover,\n",
       "div.sk-label-container:hover .sk-estimator-doc-link.fitted:hover,\n",
       ".sk-estimator-doc-link.fitted:hover {\n",
       "  /* fitted */\n",
       "  background-color: var(--sklearn-color-fitted-level-3);\n",
       "  color: var(--sklearn-color-background);\n",
       "  text-decoration: none;\n",
       "}\n",
       "\n",
       "/* Span, style for the box shown on hovering the info icon */\n",
       ".sk-estimator-doc-link span {\n",
       "  display: none;\n",
       "  z-index: 9999;\n",
       "  position: relative;\n",
       "  font-weight: normal;\n",
       "  right: .2ex;\n",
       "  padding: .5ex;\n",
       "  margin: .5ex;\n",
       "  width: min-content;\n",
       "  min-width: 20ex;\n",
       "  max-width: 50ex;\n",
       "  color: var(--sklearn-color-text);\n",
       "  box-shadow: 2pt 2pt 4pt #999;\n",
       "  /* unfitted */\n",
       "  background: var(--sklearn-color-unfitted-level-0);\n",
       "  border: .5pt solid var(--sklearn-color-unfitted-level-3);\n",
       "}\n",
       "\n",
       ".sk-estimator-doc-link.fitted span {\n",
       "  /* fitted */\n",
       "  background: var(--sklearn-color-fitted-level-0);\n",
       "  border: var(--sklearn-color-fitted-level-3);\n",
       "}\n",
       "\n",
       ".sk-estimator-doc-link:hover span {\n",
       "  display: block;\n",
       "}\n",
       "\n",
       "/* \"?\"-specific style due to the `<a>` HTML tag */\n",
       "\n",
       "#sk-container-id-1 a.estimator_doc_link {\n",
       "  float: right;\n",
       "  font-size: 1rem;\n",
       "  line-height: 1em;\n",
       "  font-family: monospace;\n",
       "  background-color: var(--sklearn-color-background);\n",
       "  border-radius: 1rem;\n",
       "  height: 1rem;\n",
       "  width: 1rem;\n",
       "  text-decoration: none;\n",
       "  /* unfitted */\n",
       "  color: var(--sklearn-color-unfitted-level-1);\n",
       "  border: var(--sklearn-color-unfitted-level-1) 1pt solid;\n",
       "}\n",
       "\n",
       "#sk-container-id-1 a.estimator_doc_link.fitted {\n",
       "  /* fitted */\n",
       "  border: var(--sklearn-color-fitted-level-1) 1pt solid;\n",
       "  color: var(--sklearn-color-fitted-level-1);\n",
       "}\n",
       "\n",
       "/* On hover */\n",
       "#sk-container-id-1 a.estimator_doc_link:hover {\n",
       "  /* unfitted */\n",
       "  background-color: var(--sklearn-color-unfitted-level-3);\n",
       "  color: var(--sklearn-color-background);\n",
       "  text-decoration: none;\n",
       "}\n",
       "\n",
       "#sk-container-id-1 a.estimator_doc_link.fitted:hover {\n",
       "  /* fitted */\n",
       "  background-color: var(--sklearn-color-fitted-level-3);\n",
       "}\n",
       "</style><div id=\"sk-container-id-1\" class=\"sk-top-container\"><div class=\"sk-text-repr-fallback\"><pre>GaussianProcessRegressor(alpha=0.01, kernel=DotProduct(sigma_0=1),\n",
       "                         n_restarts_optimizer=10)</pre><b>In a Jupyter environment, please rerun this cell to show the HTML representation or trust the notebook. <br />On GitHub, the HTML representation is unable to render, please try loading this page with nbviewer.org.</b></div><div class=\"sk-container\" hidden><div class=\"sk-item\"><div class=\"sk-estimator fitted sk-toggleable\"><input class=\"sk-toggleable__control sk-hidden--visually\" id=\"sk-estimator-id-1\" type=\"checkbox\" checked><label for=\"sk-estimator-id-1\" class=\"sk-toggleable__label fitted sk-toggleable__label-arrow fitted\">&nbsp;&nbsp;GaussianProcessRegressor<a class=\"sk-estimator-doc-link fitted\" rel=\"noreferrer\" target=\"_blank\" href=\"https://scikit-learn.org/1.4/modules/generated/sklearn.gaussian_process.GaussianProcessRegressor.html\">?<span>Documentation for GaussianProcessRegressor</span></a><span class=\"sk-estimator-doc-link fitted\">i<span>Fitted</span></span></label><div class=\"sk-toggleable__content fitted\"><pre>GaussianProcessRegressor(alpha=0.01, kernel=DotProduct(sigma_0=1),\n",
       "                         n_restarts_optimizer=10)</pre></div> </div></div></div></div>"
      ],
      "text/plain": [
       "GaussianProcessRegressor(alpha=0.01, kernel=DotProduct(sigma_0=1),\n",
       "                         n_restarts_optimizer=10)"
      ]
     },
     "execution_count": 33,
     "metadata": {},
     "output_type": "execute_result"
    }
   ],
   "source": [
    "gp.fit(M.T[val['item']].toarray(), val['rating'])"
   ]
  },
  {
   "cell_type": "code",
   "execution_count": 34,
   "id": "2a520c64",
   "metadata": {},
   "outputs": [
    {
     "data": {
      "text/plain": [
       "1.0087392850114103"
      ]
     },
     "execution_count": 34,
     "metadata": {},
     "output_type": "execute_result"
    }
   ],
   "source": [
    "y_pred = gp.predict(M.T[test['item']].toarray())\n",
    "((y_pred - y_test) ** 2).mean() ** 0.5"
   ]
  },
  {
   "cell_type": "markdown",
   "id": "6e3217d3",
   "metadata": {},
   "source": [
    "GP avec linear kernel : RMSE 1.009 si j'utilise comme embeddings les notes données aux items du validation set\n",
    "\n",
    "Ainsi ce modèle-là n'est entraîné °que° sur les films du validation de user 94 ; on tronque les autres films, ils n'existent pas ici\n",
    "\n",
    "Devrait avoir une performance similaire à KNN (sur les tests ici, c'est systématiquement mieux)"
   ]
  },
  {
   "cell_type": "code",
   "execution_count": 35,
   "id": "3dac5671",
   "metadata": {},
   "outputs": [
    {
     "data": {
      "text/plain": [
       "0.7785755707809213"
      ]
     },
     "execution_count": 35,
     "metadata": {},
     "output_type": "execute_result"
    }
   ],
   "source": [
    "gp.fit(svd.VT.T[val['item']], val['rating'])\n",
    "\n",
    "y_pred, y_std = gp.predict(svd.VT.T[test['item']], return_std=True)\n",
    "((y_pred - y_test) ** 2).mean() ** 0.5"
   ]
  },
  {
   "cell_type": "markdown",
   "id": "ffd9382b",
   "metadata": {},
   "source": [
    "GP avec linear kernel : RMSE 0.779 si j'utilise les embeddings appris par SVD (factorisation de la matrice de ratings) donc entraîné sur tout le training\n",
    "\n",
    "En pratique un peu moins bon que SVD (qui lui fait un preprocessing supplémentaire où il retire la note moyenne des users et des items), pour cet exemple-ci un peu meilleur"
   ]
  },
  {
   "cell_type": "code",
   "execution_count": 36,
   "id": "f58831e5",
   "metadata": {},
   "outputs": [
    {
     "data": {
      "text/html": [
       "<div>\n",
       "<style scoped>\n",
       "    .dataframe tbody tr th:only-of-type {\n",
       "        vertical-align: middle;\n",
       "    }\n",
       "\n",
       "    .dataframe tbody tr th {\n",
       "        vertical-align: top;\n",
       "    }\n",
       "\n",
       "    .dataframe thead th {\n",
       "        text-align: right;\n",
       "    }\n",
       "</style>\n",
       "<table border=\"1\" class=\"dataframe\">\n",
       "  <thead>\n",
       "    <tr style=\"text-align: right;\">\n",
       "      <th></th>\n",
       "      <th>pred</th>\n",
       "      <th>std</th>\n",
       "      <th>true</th>\n",
       "    </tr>\n",
       "  </thead>\n",
       "  <tbody>\n",
       "    <tr>\n",
       "      <th>8</th>\n",
       "      <td>3.202886</td>\n",
       "      <td>0.046777</td>\n",
       "      <td>3.0</td>\n",
       "    </tr>\n",
       "    <tr>\n",
       "      <th>69</th>\n",
       "      <td>3.398228</td>\n",
       "      <td>0.050602</td>\n",
       "      <td>2.0</td>\n",
       "    </tr>\n",
       "    <tr>\n",
       "      <th>28</th>\n",
       "      <td>3.412264</td>\n",
       "      <td>0.063595</td>\n",
       "      <td>4.0</td>\n",
       "    </tr>\n",
       "    <tr>\n",
       "      <th>17</th>\n",
       "      <td>3.526573</td>\n",
       "      <td>0.037060</td>\n",
       "      <td>1.0</td>\n",
       "    </tr>\n",
       "    <tr>\n",
       "      <th>72</th>\n",
       "      <td>3.554957</td>\n",
       "      <td>0.069490</td>\n",
       "      <td>4.0</td>\n",
       "    </tr>\n",
       "    <tr>\n",
       "      <th>81</th>\n",
       "      <td>3.577187</td>\n",
       "      <td>0.034891</td>\n",
       "      <td>4.0</td>\n",
       "    </tr>\n",
       "    <tr>\n",
       "      <th>4</th>\n",
       "      <td>3.600225</td>\n",
       "      <td>0.050048</td>\n",
       "      <td>4.5</td>\n",
       "    </tr>\n",
       "    <tr>\n",
       "      <th>38</th>\n",
       "      <td>3.689672</td>\n",
       "      <td>0.043732</td>\n",
       "      <td>4.0</td>\n",
       "    </tr>\n",
       "    <tr>\n",
       "      <th>26</th>\n",
       "      <td>3.708114</td>\n",
       "      <td>0.035042</td>\n",
       "      <td>2.0</td>\n",
       "    </tr>\n",
       "    <tr>\n",
       "      <th>61</th>\n",
       "      <td>3.738374</td>\n",
       "      <td>0.063425</td>\n",
       "      <td>5.0</td>\n",
       "    </tr>\n",
       "    <tr>\n",
       "      <th>51</th>\n",
       "      <td>3.748064</td>\n",
       "      <td>0.045327</td>\n",
       "      <td>4.0</td>\n",
       "    </tr>\n",
       "    <tr>\n",
       "      <th>50</th>\n",
       "      <td>3.803931</td>\n",
       "      <td>0.031831</td>\n",
       "      <td>4.0</td>\n",
       "    </tr>\n",
       "    <tr>\n",
       "      <th>33</th>\n",
       "      <td>3.815021</td>\n",
       "      <td>0.025365</td>\n",
       "      <td>4.0</td>\n",
       "    </tr>\n",
       "    <tr>\n",
       "      <th>27</th>\n",
       "      <td>3.829005</td>\n",
       "      <td>0.030313</td>\n",
       "      <td>2.0</td>\n",
       "    </tr>\n",
       "    <tr>\n",
       "      <th>56</th>\n",
       "      <td>3.831685</td>\n",
       "      <td>0.060264</td>\n",
       "      <td>4.0</td>\n",
       "    </tr>\n",
       "    <tr>\n",
       "      <th>70</th>\n",
       "      <td>3.855935</td>\n",
       "      <td>0.073057</td>\n",
       "      <td>4.0</td>\n",
       "    </tr>\n",
       "    <tr>\n",
       "      <th>32</th>\n",
       "      <td>3.874950</td>\n",
       "      <td>0.054486</td>\n",
       "      <td>3.5</td>\n",
       "    </tr>\n",
       "    <tr>\n",
       "      <th>58</th>\n",
       "      <td>3.878284</td>\n",
       "      <td>0.059422</td>\n",
       "      <td>5.0</td>\n",
       "    </tr>\n",
       "    <tr>\n",
       "      <th>73</th>\n",
       "      <td>3.879879</td>\n",
       "      <td>0.027745</td>\n",
       "      <td>4.0</td>\n",
       "    </tr>\n",
       "    <tr>\n",
       "      <th>44</th>\n",
       "      <td>3.881354</td>\n",
       "      <td>0.019863</td>\n",
       "      <td>4.0</td>\n",
       "    </tr>\n",
       "    <tr>\n",
       "      <th>65</th>\n",
       "      <td>3.882373</td>\n",
       "      <td>0.052001</td>\n",
       "      <td>3.0</td>\n",
       "    </tr>\n",
       "    <tr>\n",
       "      <th>55</th>\n",
       "      <td>3.892090</td>\n",
       "      <td>0.017158</td>\n",
       "      <td>4.0</td>\n",
       "    </tr>\n",
       "    <tr>\n",
       "      <th>2</th>\n",
       "      <td>3.893260</td>\n",
       "      <td>0.046109</td>\n",
       "      <td>4.0</td>\n",
       "    </tr>\n",
       "    <tr>\n",
       "      <th>11</th>\n",
       "      <td>3.899983</td>\n",
       "      <td>0.017680</td>\n",
       "      <td>3.0</td>\n",
       "    </tr>\n",
       "    <tr>\n",
       "      <th>30</th>\n",
       "      <td>3.902062</td>\n",
       "      <td>0.070109</td>\n",
       "      <td>4.5</td>\n",
       "    </tr>\n",
       "    <tr>\n",
       "      <th>36</th>\n",
       "      <td>3.909981</td>\n",
       "      <td>0.026266</td>\n",
       "      <td>5.0</td>\n",
       "    </tr>\n",
       "    <tr>\n",
       "      <th>9</th>\n",
       "      <td>3.913093</td>\n",
       "      <td>0.050096</td>\n",
       "      <td>4.0</td>\n",
       "    </tr>\n",
       "    <tr>\n",
       "      <th>14</th>\n",
       "      <td>3.932650</td>\n",
       "      <td>0.013601</td>\n",
       "      <td>3.0</td>\n",
       "    </tr>\n",
       "    <tr>\n",
       "      <th>24</th>\n",
       "      <td>3.940145</td>\n",
       "      <td>0.016559</td>\n",
       "      <td>3.0</td>\n",
       "    </tr>\n",
       "    <tr>\n",
       "      <th>7</th>\n",
       "      <td>3.949527</td>\n",
       "      <td>0.013651</td>\n",
       "      <td>4.0</td>\n",
       "    </tr>\n",
       "    <tr>\n",
       "      <th>6</th>\n",
       "      <td>3.950367</td>\n",
       "      <td>0.037422</td>\n",
       "      <td>1.0</td>\n",
       "    </tr>\n",
       "    <tr>\n",
       "      <th>15</th>\n",
       "      <td>3.962295</td>\n",
       "      <td>0.022450</td>\n",
       "      <td>3.0</td>\n",
       "    </tr>\n",
       "    <tr>\n",
       "      <th>37</th>\n",
       "      <td>3.974129</td>\n",
       "      <td>0.038079</td>\n",
       "      <td>2.0</td>\n",
       "    </tr>\n",
       "    <tr>\n",
       "      <th>75</th>\n",
       "      <td>3.979380</td>\n",
       "      <td>0.036585</td>\n",
       "      <td>4.0</td>\n",
       "    </tr>\n",
       "    <tr>\n",
       "      <th>13</th>\n",
       "      <td>3.986190</td>\n",
       "      <td>0.046232</td>\n",
       "      <td>3.0</td>\n",
       "    </tr>\n",
       "    <tr>\n",
       "      <th>40</th>\n",
       "      <td>3.988553</td>\n",
       "      <td>0.036623</td>\n",
       "      <td>4.0</td>\n",
       "    </tr>\n",
       "    <tr>\n",
       "      <th>43</th>\n",
       "      <td>3.989895</td>\n",
       "      <td>0.043817</td>\n",
       "      <td>4.0</td>\n",
       "    </tr>\n",
       "    <tr>\n",
       "      <th>52</th>\n",
       "      <td>3.992003</td>\n",
       "      <td>0.060726</td>\n",
       "      <td>4.0</td>\n",
       "    </tr>\n",
       "    <tr>\n",
       "      <th>34</th>\n",
       "      <td>4.000337</td>\n",
       "      <td>0.076347</td>\n",
       "      <td>4.0</td>\n",
       "    </tr>\n",
       "    <tr>\n",
       "      <th>45</th>\n",
       "      <td>4.001649</td>\n",
       "      <td>0.019600</td>\n",
       "      <td>3.0</td>\n",
       "    </tr>\n",
       "    <tr>\n",
       "      <th>25</th>\n",
       "      <td>4.002116</td>\n",
       "      <td>0.019959</td>\n",
       "      <td>4.0</td>\n",
       "    </tr>\n",
       "    <tr>\n",
       "      <th>54</th>\n",
       "      <td>4.024916</td>\n",
       "      <td>0.030776</td>\n",
       "      <td>4.0</td>\n",
       "    </tr>\n",
       "    <tr>\n",
       "      <th>79</th>\n",
       "      <td>4.026742</td>\n",
       "      <td>0.028290</td>\n",
       "      <td>5.0</td>\n",
       "    </tr>\n",
       "    <tr>\n",
       "      <th>63</th>\n",
       "      <td>4.053694</td>\n",
       "      <td>0.014150</td>\n",
       "      <td>5.0</td>\n",
       "    </tr>\n",
       "    <tr>\n",
       "      <th>31</th>\n",
       "      <td>4.058094</td>\n",
       "      <td>0.051709</td>\n",
       "      <td>4.5</td>\n",
       "    </tr>\n",
       "    <tr>\n",
       "      <th>76</th>\n",
       "      <td>4.059860</td>\n",
       "      <td>0.034178</td>\n",
       "      <td>4.0</td>\n",
       "    </tr>\n",
       "    <tr>\n",
       "      <th>71</th>\n",
       "      <td>4.060290</td>\n",
       "      <td>0.052197</td>\n",
       "      <td>3.0</td>\n",
       "    </tr>\n",
       "    <tr>\n",
       "      <th>59</th>\n",
       "      <td>4.098375</td>\n",
       "      <td>0.066981</td>\n",
       "      <td>4.0</td>\n",
       "    </tr>\n",
       "    <tr>\n",
       "      <th>12</th>\n",
       "      <td>4.100767</td>\n",
       "      <td>0.017177</td>\n",
       "      <td>4.0</td>\n",
       "    </tr>\n",
       "    <tr>\n",
       "      <th>80</th>\n",
       "      <td>4.106461</td>\n",
       "      <td>0.021852</td>\n",
       "      <td>4.0</td>\n",
       "    </tr>\n",
       "    <tr>\n",
       "      <th>74</th>\n",
       "      <td>4.108281</td>\n",
       "      <td>0.027010</td>\n",
       "      <td>4.5</td>\n",
       "    </tr>\n",
       "    <tr>\n",
       "      <th>42</th>\n",
       "      <td>4.111093</td>\n",
       "      <td>0.023937</td>\n",
       "      <td>5.0</td>\n",
       "    </tr>\n",
       "    <tr>\n",
       "      <th>66</th>\n",
       "      <td>4.132412</td>\n",
       "      <td>0.059796</td>\n",
       "      <td>4.0</td>\n",
       "    </tr>\n",
       "    <tr>\n",
       "      <th>21</th>\n",
       "      <td>4.145268</td>\n",
       "      <td>0.082449</td>\n",
       "      <td>4.0</td>\n",
       "    </tr>\n",
       "    <tr>\n",
       "      <th>5</th>\n",
       "      <td>4.178476</td>\n",
       "      <td>0.046804</td>\n",
       "      <td>4.0</td>\n",
       "    </tr>\n",
       "    <tr>\n",
       "      <th>41</th>\n",
       "      <td>4.187999</td>\n",
       "      <td>0.042860</td>\n",
       "      <td>4.0</td>\n",
       "    </tr>\n",
       "    <tr>\n",
       "      <th>60</th>\n",
       "      <td>4.206302</td>\n",
       "      <td>0.113686</td>\n",
       "      <td>5.0</td>\n",
       "    </tr>\n",
       "    <tr>\n",
       "      <th>47</th>\n",
       "      <td>4.212766</td>\n",
       "      <td>0.060021</td>\n",
       "      <td>5.0</td>\n",
       "    </tr>\n",
       "    <tr>\n",
       "      <th>20</th>\n",
       "      <td>4.245406</td>\n",
       "      <td>0.036735</td>\n",
       "      <td>4.0</td>\n",
       "    </tr>\n",
       "    <tr>\n",
       "      <th>0</th>\n",
       "      <td>4.297165</td>\n",
       "      <td>0.041897</td>\n",
       "      <td>5.0</td>\n",
       "    </tr>\n",
       "    <tr>\n",
       "      <th>3</th>\n",
       "      <td>4.302469</td>\n",
       "      <td>0.066825</td>\n",
       "      <td>4.5</td>\n",
       "    </tr>\n",
       "    <tr>\n",
       "      <th>19</th>\n",
       "      <td>4.313336</td>\n",
       "      <td>0.049141</td>\n",
       "      <td>4.0</td>\n",
       "    </tr>\n",
       "    <tr>\n",
       "      <th>62</th>\n",
       "      <td>4.322180</td>\n",
       "      <td>0.058885</td>\n",
       "      <td>4.0</td>\n",
       "    </tr>\n",
       "    <tr>\n",
       "      <th>35</th>\n",
       "      <td>4.325837</td>\n",
       "      <td>0.069522</td>\n",
       "      <td>3.0</td>\n",
       "    </tr>\n",
       "    <tr>\n",
       "      <th>46</th>\n",
       "      <td>4.361941</td>\n",
       "      <td>0.060376</td>\n",
       "      <td>4.5</td>\n",
       "    </tr>\n",
       "    <tr>\n",
       "      <th>83</th>\n",
       "      <td>4.385028</td>\n",
       "      <td>0.070130</td>\n",
       "      <td>4.0</td>\n",
       "    </tr>\n",
       "    <tr>\n",
       "      <th>82</th>\n",
       "      <td>4.470033</td>\n",
       "      <td>0.060710</td>\n",
       "      <td>4.0</td>\n",
       "    </tr>\n",
       "    <tr>\n",
       "      <th>53</th>\n",
       "      <td>4.532303</td>\n",
       "      <td>0.063530</td>\n",
       "      <td>4.5</td>\n",
       "    </tr>\n",
       "    <tr>\n",
       "      <th>49</th>\n",
       "      <td>4.544274</td>\n",
       "      <td>0.061017</td>\n",
       "      <td>5.0</td>\n",
       "    </tr>\n",
       "    <tr>\n",
       "      <th>18</th>\n",
       "      <td>4.556892</td>\n",
       "      <td>0.039359</td>\n",
       "      <td>4.0</td>\n",
       "    </tr>\n",
       "    <tr>\n",
       "      <th>78</th>\n",
       "      <td>4.575571</td>\n",
       "      <td>0.062770</td>\n",
       "      <td>3.5</td>\n",
       "    </tr>\n",
       "    <tr>\n",
       "      <th>48</th>\n",
       "      <td>4.721156</td>\n",
       "      <td>0.070223</td>\n",
       "      <td>5.0</td>\n",
       "    </tr>\n",
       "    <tr>\n",
       "      <th>23</th>\n",
       "      <td>4.751267</td>\n",
       "      <td>0.041185</td>\n",
       "      <td>5.0</td>\n",
       "    </tr>\n",
       "    <tr>\n",
       "      <th>77</th>\n",
       "      <td>4.753722</td>\n",
       "      <td>0.080934</td>\n",
       "      <td>5.0</td>\n",
       "    </tr>\n",
       "    <tr>\n",
       "      <th>67</th>\n",
       "      <td>4.861209</td>\n",
       "      <td>0.059602</td>\n",
       "      <td>5.0</td>\n",
       "    </tr>\n",
       "    <tr>\n",
       "      <th>39</th>\n",
       "      <td>4.875109</td>\n",
       "      <td>0.053319</td>\n",
       "      <td>4.5</td>\n",
       "    </tr>\n",
       "    <tr>\n",
       "      <th>29</th>\n",
       "      <td>4.918294</td>\n",
       "      <td>0.062098</td>\n",
       "      <td>5.0</td>\n",
       "    </tr>\n",
       "    <tr>\n",
       "      <th>16</th>\n",
       "      <td>4.932498</td>\n",
       "      <td>0.047995</td>\n",
       "      <td>5.0</td>\n",
       "    </tr>\n",
       "    <tr>\n",
       "      <th>64</th>\n",
       "      <td>4.972085</td>\n",
       "      <td>0.081627</td>\n",
       "      <td>4.5</td>\n",
       "    </tr>\n",
       "    <tr>\n",
       "      <th>10</th>\n",
       "      <td>4.983242</td>\n",
       "      <td>0.063953</td>\n",
       "      <td>5.0</td>\n",
       "    </tr>\n",
       "    <tr>\n",
       "      <th>22</th>\n",
       "      <td>5.099853</td>\n",
       "      <td>0.061214</td>\n",
       "      <td>5.0</td>\n",
       "    </tr>\n",
       "    <tr>\n",
       "      <th>57</th>\n",
       "      <td>5.159639</td>\n",
       "      <td>0.096476</td>\n",
       "      <td>5.0</td>\n",
       "    </tr>\n",
       "    <tr>\n",
       "      <th>1</th>\n",
       "      <td>5.257542</td>\n",
       "      <td>0.074677</td>\n",
       "      <td>5.0</td>\n",
       "    </tr>\n",
       "    <tr>\n",
       "      <th>68</th>\n",
       "      <td>5.456470</td>\n",
       "      <td>0.112508</td>\n",
       "      <td>5.0</td>\n",
       "    </tr>\n",
       "  </tbody>\n",
       "</table>\n",
       "</div>"
      ],
      "text/plain": [
       "        pred       std  true\n",
       "8   3.202886  0.046777   3.0\n",
       "69  3.398228  0.050602   2.0\n",
       "28  3.412264  0.063595   4.0\n",
       "17  3.526573  0.037060   1.0\n",
       "72  3.554957  0.069490   4.0\n",
       "81  3.577187  0.034891   4.0\n",
       "4   3.600225  0.050048   4.5\n",
       "38  3.689672  0.043732   4.0\n",
       "26  3.708114  0.035042   2.0\n",
       "61  3.738374  0.063425   5.0\n",
       "51  3.748064  0.045327   4.0\n",
       "50  3.803931  0.031831   4.0\n",
       "33  3.815021  0.025365   4.0\n",
       "27  3.829005  0.030313   2.0\n",
       "56  3.831685  0.060264   4.0\n",
       "70  3.855935  0.073057   4.0\n",
       "32  3.874950  0.054486   3.5\n",
       "58  3.878284  0.059422   5.0\n",
       "73  3.879879  0.027745   4.0\n",
       "44  3.881354  0.019863   4.0\n",
       "65  3.882373  0.052001   3.0\n",
       "55  3.892090  0.017158   4.0\n",
       "2   3.893260  0.046109   4.0\n",
       "11  3.899983  0.017680   3.0\n",
       "30  3.902062  0.070109   4.5\n",
       "36  3.909981  0.026266   5.0\n",
       "9   3.913093  0.050096   4.0\n",
       "14  3.932650  0.013601   3.0\n",
       "24  3.940145  0.016559   3.0\n",
       "7   3.949527  0.013651   4.0\n",
       "6   3.950367  0.037422   1.0\n",
       "15  3.962295  0.022450   3.0\n",
       "37  3.974129  0.038079   2.0\n",
       "75  3.979380  0.036585   4.0\n",
       "13  3.986190  0.046232   3.0\n",
       "40  3.988553  0.036623   4.0\n",
       "43  3.989895  0.043817   4.0\n",
       "52  3.992003  0.060726   4.0\n",
       "34  4.000337  0.076347   4.0\n",
       "45  4.001649  0.019600   3.0\n",
       "25  4.002116  0.019959   4.0\n",
       "54  4.024916  0.030776   4.0\n",
       "79  4.026742  0.028290   5.0\n",
       "63  4.053694  0.014150   5.0\n",
       "31  4.058094  0.051709   4.5\n",
       "76  4.059860  0.034178   4.0\n",
       "71  4.060290  0.052197   3.0\n",
       "59  4.098375  0.066981   4.0\n",
       "12  4.100767  0.017177   4.0\n",
       "80  4.106461  0.021852   4.0\n",
       "74  4.108281  0.027010   4.5\n",
       "42  4.111093  0.023937   5.0\n",
       "66  4.132412  0.059796   4.0\n",
       "21  4.145268  0.082449   4.0\n",
       "5   4.178476  0.046804   4.0\n",
       "41  4.187999  0.042860   4.0\n",
       "60  4.206302  0.113686   5.0\n",
       "47  4.212766  0.060021   5.0\n",
       "20  4.245406  0.036735   4.0\n",
       "0   4.297165  0.041897   5.0\n",
       "3   4.302469  0.066825   4.5\n",
       "19  4.313336  0.049141   4.0\n",
       "62  4.322180  0.058885   4.0\n",
       "35  4.325837  0.069522   3.0\n",
       "46  4.361941  0.060376   4.5\n",
       "83  4.385028  0.070130   4.0\n",
       "82  4.470033  0.060710   4.0\n",
       "53  4.532303  0.063530   4.5\n",
       "49  4.544274  0.061017   5.0\n",
       "18  4.556892  0.039359   4.0\n",
       "78  4.575571  0.062770   3.5\n",
       "48  4.721156  0.070223   5.0\n",
       "23  4.751267  0.041185   5.0\n",
       "77  4.753722  0.080934   5.0\n",
       "67  4.861209  0.059602   5.0\n",
       "39  4.875109  0.053319   4.5\n",
       "29  4.918294  0.062098   5.0\n",
       "16  4.932498  0.047995   5.0\n",
       "64  4.972085  0.081627   4.5\n",
       "10  4.983242  0.063953   5.0\n",
       "22  5.099853  0.061214   5.0\n",
       "57  5.159639  0.096476   5.0\n",
       "1   5.257542  0.074677   5.0\n",
       "68  5.456470  0.112508   5.0"
      ]
     },
     "execution_count": 36,
     "metadata": {},
     "output_type": "execute_result"
    }
   ],
   "source": [
    "pd.set_option('display.max_rows', None)\n",
    "\n",
    "pd.DataFrame(np.column_stack((y_pred, y_std, y_test)), columns=('pred', 'std', 'true')).sort_values('pred')"
   ]
  },
  {
   "cell_type": "markdown",
   "id": "9cda26d1",
   "metadata": {},
   "source": [
    "Les mauvaises notes sont plutôt en haut et les bonnes notes plutôt en bas : c'est cohérent"
   ]
  }
 ],
 "metadata": {
  "kernelspec": {
   "display_name": "Python 3 (ipykernel)",
   "language": "python",
   "name": "python3"
  },
  "language_info": {
   "codemirror_mode": {
    "name": "ipython",
    "version": 3
   },
   "file_extension": ".py",
   "mimetype": "text/x-python",
   "name": "python",
   "nbconvert_exporter": "python",
   "pygments_lexer": "ipython3",
   "version": "3.10.12"
  }
 },
 "nbformat": 4,
 "nbformat_minor": 5
}
