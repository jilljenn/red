{
 "cells": [
  {
   "cell_type": "code",
   "execution_count": 24,
   "id": "b1ab1ea2",
   "metadata": {},
   "outputs": [],
   "source": [
    "# Needs numpy<2\n",
    "from sklearn.gaussian_process import GaussianProcessRegressor\n",
    "from sklearn.linear_model import LinearRegression, Ridge"
   ]
  },
  {
   "cell_type": "code",
   "execution_count": 3,
   "id": "22df194e",
   "metadata": {},
   "outputs": [
    {
     "data": {
      "text/plain": [
       "((10, 20), (10,))"
      ]
     },
     "execution_count": 3,
     "metadata": {},
     "output_type": "execute_result"
    }
   ],
   "source": [
    "import numpy as np\n",
    "\n",
    "N = 10\n",
    "D = 20\n",
    "X = np.random.random((N, D))\n",
    "y = np.random.random((N,))\n",
    "X.shape, y.shape"
   ]
  },
  {
   "cell_type": "code",
   "execution_count": 4,
   "id": "611ce11e",
   "metadata": {},
   "outputs": [],
   "source": [
    "X_test = np.random.random((1, D))"
   ]
  },
  {
   "cell_type": "code",
   "execution_count": 25,
   "id": "30bb00dd",
   "metadata": {},
   "outputs": [
    {
     "data": {
      "text/plain": [
       "array([0.74223646])"
      ]
     },
     "execution_count": 25,
     "metadata": {},
     "output_type": "execute_result"
    }
   ],
   "source": [
    "model = Ridge(fit_intercept=False)\n",
    "model.fit(X, y)\n",
    "model.predict(X_test)"
   ]
  },
  {
   "cell_type": "code",
   "execution_count": 26,
   "id": "78646d2b",
   "metadata": {},
   "outputs": [
    {
     "data": {
      "text/plain": [
       "array([-0.02099534,  0.09838221,  0.0434512 ,  0.0363666 ,  0.14917565,\n",
       "        0.11205249, -0.1899224 ,  0.25641629,  0.22972918,  0.04446996,\n",
       "       -0.16361987,  0.11724655,  0.1272474 , -0.03997212,  0.06707027,\n",
       "       -0.0953991 ,  0.05262966,  0.09708378,  0.05028898,  0.01178977])"
      ]
     },
     "execution_count": 26,
     "metadata": {},
     "output_type": "execute_result"
    }
   ],
   "source": [
    "model.coef_"
   ]
  },
  {
   "cell_type": "code",
   "execution_count": 23,
   "id": "87453e12",
   "metadata": {},
   "outputs": [
    {
     "name": "stderr",
     "output_type": "stream",
     "text": [
      "/home/jj/.local/lib/python3.10/site-packages/sklearn/gaussian_process/kernels.py:307: RuntimeWarning: divide by zero encountered in log\n",
      "  return np.log(np.hstack(theta))\n",
      "/home/jj/.local/lib/python3.10/site-packages/sklearn/gaussian_process/kernels.py:442: ConvergenceWarning: The optimal value found for dimension 0 of parameter sigma_0 is close to the specified lower bound 1e-05. Decreasing the bound and calling fit again may find a better value.\n",
      "  warnings.warn(\n"
     ]
    },
    {
     "data": {
      "text/plain": [
       "array([0.74223646])"
      ]
     },
     "execution_count": 23,
     "metadata": {},
     "output_type": "execute_result"
    }
   ],
   "source": [
    "from sklearn.metrics.pairwise import linear_kernel\n",
    "from sklearn.gaussian_process.kernels import DotProduct\n",
    "\n",
    "linear = DotProduct(0.)\n",
    "gp = GaussianProcessRegressor(linear, alpha=1.)\n",
    "gp.fit(X, y)\n",
    "gp.predict(X_test)"
   ]
  },
  {
   "cell_type": "code",
   "execution_count": 17,
   "id": "bcb9b43b",
   "metadata": {},
   "outputs": [],
   "source": [
    "A = X.T @ X + np.eye(D)"
   ]
  },
  {
   "cell_type": "code",
   "execution_count": 22,
   "id": "8f79f705",
   "metadata": {},
   "outputs": [
    {
     "data": {
      "text/plain": [
       "array([-0.02099534,  0.09838221,  0.0434512 ,  0.0363666 ,  0.14917565,\n",
       "        0.11205249, -0.1899224 ,  0.25641629,  0.22972918,  0.04446996,\n",
       "       -0.16361987,  0.11724655,  0.1272474 , -0.03997212,  0.06707027,\n",
       "       -0.0953991 ,  0.05262966,  0.09708378,  0.05028898,  0.01178977])"
      ]
     },
     "execution_count": 22,
     "metadata": {},
     "output_type": "execute_result"
    }
   ],
   "source": [
    "opt = np.linalg.inv(A) @ X.T @ y\n",
    "opt"
   ]
  },
  {
   "cell_type": "code",
   "execution_count": 27,
   "id": "056d038e",
   "metadata": {},
   "outputs": [
    {
     "data": {
      "text/plain": [
       "array([0.74223646])"
      ]
     },
     "execution_count": 27,
     "metadata": {},
     "output_type": "execute_result"
    }
   ],
   "source": [
    "X_test @ opt"
   ]
  },
  {
   "cell_type": "code",
   "execution_count": 28,
   "id": "8e363ae2",
   "metadata": {},
   "outputs": [
    {
     "data": {
      "text/plain": [
       "array([1.23005279])"
      ]
     },
     "execution_count": 28,
     "metadata": {},
     "output_type": "execute_result"
    }
   ],
   "source": [
    "y_pred, y_std = gp.predict(X_test, return_std=True)\n",
    "y_std"
   ]
  },
  {
   "cell_type": "code",
   "execution_count": 32,
   "id": "1ee7e0d3",
   "metadata": {},
   "outputs": [
    {
     "data": {
      "text/plain": [
       "array([[1.23005279]])"
      ]
     },
     "execution_count": 32,
     "metadata": {},
     "output_type": "execute_result"
    }
   ],
   "source": [
    "np.sqrt(X_test @ np.linalg.inv(A) @ X_test.T)"
   ]
  },
  {
   "cell_type": "code",
   "execution_count": null,
   "id": "f1106e06",
   "metadata": {},
   "outputs": [],
   "source": []
  }
 ],
 "metadata": {
  "kernelspec": {
   "display_name": "Python 3 (ipykernel)",
   "language": "python",
   "name": "python3"
  },
  "language_info": {
   "codemirror_mode": {
    "name": "ipython",
    "version": 3
   },
   "file_extension": ".py",
   "mimetype": "text/x-python",
   "name": "python",
   "nbconvert_exporter": "python",
   "pygments_lexer": "ipython3",
   "version": "3.10.12"
  }
 },
 "nbformat": 4,
 "nbformat_minor": 5
}
