{
 "cells": [
  {
   "cell_type": "code",
   "execution_count": 1,
   "id": "15e7ee72",
   "metadata": {},
   "outputs": [],
   "source": [
    "import numpy as np\n",
    "\n",
    "embeddings = np.array([\n",
    "    [1, 0],\n",
    "    [1.2, 0.1],\n",
    "    [0, 1],\n",
    "    [-1, 0.1],\n",
    "    [-1.2, 0],\n",
    "    [-1.4, 0.3],\n",
    "    [0, -1]\n",
    "])\n",
    "names = ['Film1', 'Film2', 'Livre', 'Opéra1', 'Opéra2', 'Opéra3', 'Concert']"
   ]
  },
  {
   "cell_type": "code",
   "execution_count": 2,
   "id": "32ebfb79",
   "metadata": {},
   "outputs": [
    {
     "data": {
      "image/png": "[encoded data removed]",
      "text/plain": [
       "<Figure size 640x480 with 1 Axes>"
      ]
     },
     "metadata": {},
     "output_type": "display_data"
    }
   ],
   "source": [
    "import matplotlib.pyplot as plt\n",
    "\n",
    "plt.scatter(embeddings[:, 0], embeddings[:, 1])\n",
    "for i, name in enumerate(names):\n",
    "    plt.annotate(name, xy=embeddings[i], xytext=embeddings[i] + 0.02)"
   ]
  },
  {
   "cell_type": "markdown",
   "id": "2045f76a",
   "metadata": {},
   "source": [
    "$$k(i, j) = q_i \\phi_i^T \\phi_j q_j$$\n",
    "$$x_i = q_i \\phi_i$$\n",
    "\n",
    "$$R(x, a) = x^T a$$\n",
    "\n",
    "Comment paramétriser les actions ? (one hot catégorie)\n",
    "\n",
    "- Unifier ces notations (embedding, $q_i = p(B = 1)$ ?)\n",
    "- Jouer avec du code DPP\n",
    "- Reprendre des modèles simples de recommandation (régression linéaire ou logistique)"
   ]
  },
  {
   "cell_type": "code",
   "execution_count": 3,
   "id": "9897abf6",
   "metadata": {},
   "outputs": [
    {
     "data": {
      "text/plain": [
       "1"
      ]
     },
     "execution_count": 3,
     "metadata": {},
     "output_type": "execute_result"
    }
   ],
   "source": [
    "contexte = np.array([0, 1, 0, 1])\n",
    "item = np.array([0, 1, 0, 0])\n",
    "delta = contexte @ item\n",
    "delta"
   ]
  },
  {
   "cell_type": "code",
   "execution_count": 4,
   "id": "fc7f7506",
   "metadata": {},
   "outputs": [
    {
     "data": {
      "text/plain": [
       "[6, 4]"
      ]
     },
     "execution_count": 4,
     "metadata": {},
     "output_type": "execute_result"
    }
   ],
   "source": [
    "from sklearn.metrics.pairwise import linear_kernel, rbf_kernel\n",
    "\n",
    "X = embeddings\n",
    "K_lin = linear_kernel(X)\n",
    "\n",
    "import random\n",
    "\n",
    "def sample(K):\n",
    "    N, _ = K.shape\n",
    "    lam, v = map(np.real, np.linalg.eig(K))\n",
    "    V = v[:, [random.random() < lam[i] / (lam[i] + 1) for i in range(N)]]\n",
    "    _, nb = V.shape\n",
    "    selected = []\n",
    "    while nb:\n",
    "        V, _ = np.linalg.qr(V)\n",
    "        proba = ((V ** 2) / nb).sum(axis=1)\n",
    "        k = np.random.choice(N, p=proba)\n",
    "        selected.append(k)\n",
    "        removed_index = np.where(V[k, :] != 0)[0][0]\n",
    "        remover = V[:, removed_index] / V[k, removed_index]\n",
    "        V = V - np.outer(remover, V[k, :])\n",
    "        V = np.delete(V, removed_index, axis=1)\n",
    "        nb -= 1\n",
    "    return selected\n",
    "\n",
    "sample(K_lin)"
   ]
  },
  {
   "cell_type": "code",
   "execution_count": 5,
   "id": "77c1cc03",
   "metadata": {},
   "outputs": [
    {
     "data": {
      "text/plain": [
       "array([[ 1.  ,  1.2 ,  0.  , -1.  , -1.2 , -1.4 ,  0.  ],\n",
       "       [ 1.2 ,  1.45,  0.1 , -1.19, -1.44, -1.65, -0.1 ],\n",
       "       [ 0.  ,  0.1 ,  1.  ,  0.1 ,  0.  ,  0.3 , -1.  ],\n",
       "       [-1.  , -1.19,  0.1 ,  1.01,  1.2 ,  1.43, -0.1 ],\n",
       "       [-1.2 , -1.44,  0.  ,  1.2 ,  1.44,  1.68,  0.  ],\n",
       "       [-1.4 , -1.65,  0.3 ,  1.43,  1.68,  2.05, -0.3 ],\n",
       "       [ 0.  , -0.1 , -1.  , -0.1 ,  0.  , -0.3 ,  1.  ]])"
      ]
     },
     "execution_count": 5,
     "metadata": {},
     "output_type": "execute_result"
    }
   ],
   "source": [
    "K_lin"
   ]
  },
  {
   "cell_type": "code",
   "execution_count": 6,
   "id": "61513dbf",
   "metadata": {},
   "outputs": [],
   "source": [
    "def esym_poly(k, lam):\n",
    "  N = lam.size\n",
    "  E = np.zeros((k+1, N+1))\n",
    "  E[0, :] = np.ones((1, N+1))\n",
    "  for l in range(1, k+1):\n",
    "    for n in range(1, N+1):\n",
    "      E[l, n] = E[l, n-1] + lam[n-1]*E[l-1, n-1]\n",
    "\n",
    "  return E\n",
    "\n",
    "\n",
    "def sample_k(k, lam, V_full):\n",
    "  E = esym_poly(k, lam)\n",
    "  J = []\n",
    "  remaining = k-1\n",
    "  i = lam.size-1\n",
    "\n",
    "  while remaining>=0:\n",
    "    marg = 0.0\n",
    "    if i == remaining:\n",
    "      marg = 1.0\n",
    "    else:\n",
    "      if E[remaining+1, i+1] == 0:\n",
    "        i = i-1\n",
    "        continue\n",
    "      marg = lam[i]*E[remaining, i]/E[remaining+1, i+1]\n",
    "\n",
    "    if np.random.rand() < marg:\n",
    "      J.append(i)\n",
    "      remaining = remaining-1\n",
    "    \n",
    "    i = i-1\n",
    "\n",
    "  k = len(J)-1\n",
    "  Y = np.zeros((len(J), 1))\n",
    "  V = V_full[:, J]\n",
    "\n",
    "  for i in range(k, -1, -1):\n",
    "    # Sample\n",
    "    Pr = np.sum(V**2, axis=1)\n",
    "    Pr = Pr/sum(Pr)\n",
    "    C = np.cumsum(Pr)\n",
    "    jj = np.argwhere(np.random.rand() <= C)[0]\n",
    "    Y[i] = jj\n",
    "\n",
    "    # Update V \n",
    "    j = np.argwhere(V[int(Y[i]), :])[0]\n",
    "    Vj = V[:, j]\n",
    "    V = np.delete(V, j, 1)\n",
    "    V = V - np.outer(Vj, V[int(Y[i]), :]/Vj[int(Y[i])])\n",
    "\n",
    "    # QR decomposition, which is more numerically stable (and faster) than Gram\n",
    "    # Schmidt\n",
    "    if i > 0:\n",
    "      V, r = np.linalg.qr(V)\n",
    "\n",
    "  return Y"
   ]
  },
  {
   "cell_type": "code",
   "execution_count": 68,
   "id": "ef8a3c8f",
   "metadata": {},
   "outputs": [],
   "source": [
    "from sklearn.gaussian_process.kernels import DotProduct, RBF, ConstantKernel as C\n",
    "from sklearn.gaussian_process import GaussianProcessRegressor\n",
    "\n",
    "kernel = DotProduct(1.0, (1e-3, 1e3))\n",
    "kernel = RBF(1., (1e-5, 1e5))\n",
    "gp = GaussianProcessRegressor(kernel=kernel, n_restarts_optimizer=10, alpha=1e-2)\n",
    "\n",
    "\n",
    "class MangakiDPP:\n",
    "    def __init__(self, work_ids=None, vectors=None):\n",
    "        self.work_ids = np.array(work_ids)\n",
    "        self.vectors = vectors\n",
    "\n",
    "    def compute_similarity(self):\n",
    "        # self.L = self.vectors.dot(self.vectors.T)\n",
    "        self.L = kernel(self.vectors)\n",
    "\n",
    "    def preprocess(self, indices=None):\n",
    "        self.compute_similarity()\n",
    "        if indices is None:\n",
    "            indices = list(range(len(self.vectors)))\n",
    "        D, V = np.linalg.eig(self.L[np.ix_(indices, indices)])\n",
    "        self.D = np.real(D)\n",
    "        self.V = np.real(V)\n",
    "\n",
    "    def sample_k(self, k):\n",
    "        sampled_indices = [int(index) for index in sample_k(k, self.D, self.V)]\n",
    "        return self.work_ids[sampled_indices]"
   ]
  },
  {
   "cell_type": "code",
   "execution_count": 74,
   "id": "89b39a1a",
   "metadata": {},
   "outputs": [
    {
     "name": "stdout",
     "output_type": "stream",
     "text": [
      "2 Livre\n",
      "4 Opéra2\n",
      "0 Film1\n"
     ]
    }
   ],
   "source": [
    "dpp = MangakiDPP(range(len(embeddings)), embeddings)\n",
    "dpp.preprocess()\n",
    "\n",
    "item_ids = dpp.sample_k(3)\n",
    "for item_id in item_ids:\n",
    "    print(item_id, names[item_id])"
   ]
  },
  {
   "cell_type": "code",
   "execution_count": 75,
   "id": "2fe52467",
   "metadata": {},
   "outputs": [],
   "source": [
    "# !pip install git+https://github.com/mangaki/mangaki"
   ]
  },
  {
   "cell_type": "code",
   "execution_count": 76,
   "id": "bf5c562f",
   "metadata": {},
   "outputs": [],
   "source": [
    "# sample_k(K_lin)"
   ]
  },
  {
   "cell_type": "code",
   "execution_count": 77,
   "id": "f4922935",
   "metadata": {},
   "outputs": [
    {
     "data": {
      "text/plain": [
       "array([[1., 0.],\n",
       "       [0., 1.]])"
      ]
     },
     "execution_count": 77,
     "metadata": {},
     "output_type": "execute_result"
    }
   ],
   "source": [
    "embeddings[history[:, 0]]"
   ]
  },
  {
   "cell_type": "markdown",
   "id": "c83009ac",
   "metadata": {},
   "source": [
    "Bayesian optimization (~ Thompson sampling) https://www.miguelgondu.com/blogposts/2023-07-31/intro-to-bo/"
   ]
  },
  {
   "cell_type": "code",
   "execution_count": 80,
   "id": "0a338817",
   "metadata": {},
   "outputs": [],
   "source": [
    "\n",
    "history = np.array([\n",
    "    [0, 1],  # Likes Film1\n",
    "    [2, 1],  # Dislikes Livre\n",
    "    #[3, 1]  # Likes Opera\n",
    "])  # Feedback implicite\n",
    "\n",
    "gp.fit(embeddings[history[:, 0]], history[:, 1])\n",
    "y_pred, y_std = gp.predict(embeddings, return_std=True)"
   ]
  },
  {
   "cell_type": "code",
   "execution_count": 81,
   "id": "bf440bbe",
   "metadata": {},
   "outputs": [
    {
     "name": "stdout",
     "output_type": "stream",
     "text": [
      "0 Film1 pred 0.99502 std 0.07053 0.14072\n",
      "1 Film2 pred 0.99502 std 0.07053 0.14072\n",
      "2 Livre pred 0.99502 std 0.07053 0.14072\n",
      "3 Opéra1 pred 0.99502 std 0.07054 0.14072\n",
      "4 Opéra2 pred 0.99502 std 0.07054 0.14072\n",
      "5 Opéra3 pred 0.99502 std 0.07054 0.14072\n",
      "6 Concert pred 0.99502 std 0.07054 0.14072\n"
     ]
    }
   ],
   "source": [
    "EPSILON = 2\n",
    "\n",
    "for i, (item, pred, std) in enumerate(zip(names, y_pred, y_std)):\n",
    "    print(i, item, 'pred', pred.round(5), 'std', std.round(5), ((1 + pred) * std).round(5))#, (pred + EPSILON * std).round(5))"
   ]
  },
  {
   "cell_type": "markdown",
   "id": "d9e1e311",
   "metadata": {},
   "source": [
    "- $p(B = 1) \\Delta$\n",
    "- $(1 + p(B = 1)) \\Delta$\n",
    "- $p(B = 1) (1 + \\Delta) \\textrm{ (simplified : entre 0 et 2)}$\n",
    "- $(1 + p(B = 1)) (1 + \\Delta)$\n",
    "- $p(C = 1) + p(B = 1) (1 + \\Delta) \\textrm{ (current : entre 0 et 7)}$\n",
    "- $\\left(p(C = 1) + p(B = 1)\\right) (1 + \\Delta)$\n",
    "- $p(C = 1) + p(B = 1) \\frac{(1 + \\Delta)}6$"
   ]
  },
  {
   "cell_type": "markdown",
   "id": "e5fbfa87",
   "metadata": {},
   "source": [
    "- [x] Embeddings (norme 1) DPP\n",
    "- [x] Bookings\n",
    "- [ ] Delta"
   ]
  },
  {
   "cell_type": "markdown",
   "id": "4e6b1682",
   "metadata": {},
   "source": [
    "/!\\ Les Delta dépendent des Delta précédents => samples non iid  \n",
    "Définir les Delta (déterministes) au moment de construction du noyau DPP\n",
    "\n",
    "Avoir un modèle du comportement (Clic < Favori < Booking)\n",
    "\n",
    "Favoriser/pénaliser l'échantillonnage en fonction de $p(B = 1) * \\Delta$ ? Ou de l'incertitude ?\n",
    "\n",
    "Ajouter du poids là où la masse de proba est faible"
   ]
  },
  {
   "cell_type": "code",
   "execution_count": 137,
   "id": "8bdefcd8",
   "metadata": {},
   "outputs": [],
   "source": [
    "# TwoTowers: pas de temporalité\n",
    "# QPI: questionnaire pratique initiale (déjà fait ; ce que tu aimes ou pas)"
   ]
  },
  {
   "cell_type": "code",
   "execution_count": null,
   "id": "11a28bdd",
   "metadata": {},
   "outputs": [],
   "source": []
  }
 ],
 "metadata": {
  "kernelspec": {
   "display_name": "Python 3 (ipykernel)",
   "language": "python",
   "name": "python3"
  },
  "language_info": {
   "codemirror_mode": {
    "name": "ipython",
    "version": 3
   },
   "file_extension": ".py",
   "mimetype": "text/x-python",
   "name": "python",
   "nbconvert_exporter": "python",
   "pygments_lexer": "ipython3",
   "version": "3.10.12"
  }
 },
 "nbformat": 4,
 "nbformat_minor": 5
}
